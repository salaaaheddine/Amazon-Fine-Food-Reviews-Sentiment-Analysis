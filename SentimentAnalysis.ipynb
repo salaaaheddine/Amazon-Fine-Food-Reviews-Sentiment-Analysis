{
 "cells": [
  {
   "cell_type": "markdown",
   "id": "bdc5f77c-6296-4687-95b2-00bb402d0d75",
   "metadata": {},
   "source": [
    "# Amazon Fine Food Sentiment Analysis"
   ]
  },
  {
   "cell_type": "markdown",
   "id": "5ac8113f-36a9-4ffe-b2e4-d7826bba9a72",
   "metadata": {},
   "source": [
    "## Context"
   ]
  },
  {
   "cell_type": "markdown",
   "id": "4d850273-67ec-4ce2-a5f1-032602bef01f",
   "metadata": {},
   "source": [
    "This dataset consists of reviews of fine foods from amazon. The data span a period of more than 10 years, including all ~500,000 reviews up to October 2012. Reviews include product and user information, ratings, and a plain text review. It also includes reviews from all other Amazon categories."
   ]
  },
  {
   "cell_type": "code",
   "execution_count": 24,
   "id": "50c339b4-2e4f-4785-b74b-ab843f02f0cd",
   "metadata": {},
   "outputs": [],
   "source": [
    "import warnings\n",
    "warnings.filterwarnings('ignore')"
   ]
  },
  {
   "cell_type": "markdown",
   "id": "a91eb084-0abe-4f86-b087-68a11d230f00",
   "metadata": {},
   "source": [
    "## NLTK Basics "
   ]
  },
  {
   "cell_type": "code",
   "execution_count": 25,
   "id": "434814e5-8e69-47c4-a018-edb618c77446",
   "metadata": {},
   "outputs": [],
   "source": [
    "import pandas as pd\n",
    "import numpy as np\n",
    "import matplotlib.pyplot as plt \n",
    "import seaborn as sns\n",
    "\n",
    "plt.style.use('ggplot')\n",
    "\n",
    "import nltk\n",
    "from nltk.sentiment import SentimentIntensityAnalyzer\n",
    "from tqdm.notebook import tqdm\n",
    "\n",
    "# nltk.download('maxent_ne_chunker')\n",
    "# nltk.download('words')\n",
    "# nltk.download('vader_lexicon')"
   ]
  },
  {
   "cell_type": "code",
   "execution_count": 26,
   "id": "d0de092b-711c-4235-bbcc-01e6d3bec102",
   "metadata": {},
   "outputs": [],
   "source": [
    "data = pd.read_csv(\"Reviews.csv\")"
   ]
  },
  {
   "cell_type": "code",
   "execution_count": 27,
   "id": "5dc7dcd2-bee6-4de4-89a1-324cd9876577",
   "metadata": {
    "scrolled": true
   },
   "outputs": [
    {
     "data": {
      "text/html": [
       "<div>\n",
       "<style scoped>\n",
       "    .dataframe tbody tr th:only-of-type {\n",
       "        vertical-align: middle;\n",
       "    }\n",
       "\n",
       "    .dataframe tbody tr th {\n",
       "        vertical-align: top;\n",
       "    }\n",
       "\n",
       "    .dataframe thead th {\n",
       "        text-align: right;\n",
       "    }\n",
       "</style>\n",
       "<table border=\"1\" class=\"dataframe\">\n",
       "  <thead>\n",
       "    <tr style=\"text-align: right;\">\n",
       "      <th></th>\n",
       "      <th>Id</th>\n",
       "      <th>ProductId</th>\n",
       "      <th>UserId</th>\n",
       "      <th>ProfileName</th>\n",
       "      <th>HelpfulnessNumerator</th>\n",
       "      <th>HelpfulnessDenominator</th>\n",
       "      <th>Score</th>\n",
       "      <th>Time</th>\n",
       "      <th>Summary</th>\n",
       "      <th>Text</th>\n",
       "    </tr>\n",
       "  </thead>\n",
       "  <tbody>\n",
       "    <tr>\n",
       "      <th>0</th>\n",
       "      <td>1</td>\n",
       "      <td>B001E4KFG0</td>\n",
       "      <td>A3SGXH7AUHU8GW</td>\n",
       "      <td>delmartian</td>\n",
       "      <td>1</td>\n",
       "      <td>1</td>\n",
       "      <td>5</td>\n",
       "      <td>1303862400</td>\n",
       "      <td>Good Quality Dog Food</td>\n",
       "      <td>I have bought several of the Vitality canned d...</td>\n",
       "    </tr>\n",
       "    <tr>\n",
       "      <th>1</th>\n",
       "      <td>2</td>\n",
       "      <td>B00813GRG4</td>\n",
       "      <td>A1D87F6ZCVE5NK</td>\n",
       "      <td>dll pa</td>\n",
       "      <td>0</td>\n",
       "      <td>0</td>\n",
       "      <td>1</td>\n",
       "      <td>1346976000</td>\n",
       "      <td>Not as Advertised</td>\n",
       "      <td>Product arrived labeled as Jumbo Salted Peanut...</td>\n",
       "    </tr>\n",
       "    <tr>\n",
       "      <th>2</th>\n",
       "      <td>3</td>\n",
       "      <td>B000LQOCH0</td>\n",
       "      <td>ABXLMWJIXXAIN</td>\n",
       "      <td>Natalia Corres \"Natalia Corres\"</td>\n",
       "      <td>1</td>\n",
       "      <td>1</td>\n",
       "      <td>4</td>\n",
       "      <td>1219017600</td>\n",
       "      <td>\"Delight\" says it all</td>\n",
       "      <td>This is a confection that has been around a fe...</td>\n",
       "    </tr>\n",
       "    <tr>\n",
       "      <th>3</th>\n",
       "      <td>4</td>\n",
       "      <td>B000UA0QIQ</td>\n",
       "      <td>A395BORC6FGVXV</td>\n",
       "      <td>Karl</td>\n",
       "      <td>3</td>\n",
       "      <td>3</td>\n",
       "      <td>2</td>\n",
       "      <td>1307923200</td>\n",
       "      <td>Cough Medicine</td>\n",
       "      <td>If you are looking for the secret ingredient i...</td>\n",
       "    </tr>\n",
       "    <tr>\n",
       "      <th>4</th>\n",
       "      <td>5</td>\n",
       "      <td>B006K2ZZ7K</td>\n",
       "      <td>A1UQRSCLF8GW1T</td>\n",
       "      <td>Michael D. Bigham \"M. Wassir\"</td>\n",
       "      <td>0</td>\n",
       "      <td>0</td>\n",
       "      <td>5</td>\n",
       "      <td>1350777600</td>\n",
       "      <td>Great taffy</td>\n",
       "      <td>Great taffy at a great price.  There was a wid...</td>\n",
       "    </tr>\n",
       "  </tbody>\n",
       "</table>\n",
       "</div>"
      ],
      "text/plain": [
       "   Id   ProductId          UserId                      ProfileName  \\\n",
       "0   1  B001E4KFG0  A3SGXH7AUHU8GW                       delmartian   \n",
       "1   2  B00813GRG4  A1D87F6ZCVE5NK                           dll pa   \n",
       "2   3  B000LQOCH0   ABXLMWJIXXAIN  Natalia Corres \"Natalia Corres\"   \n",
       "3   4  B000UA0QIQ  A395BORC6FGVXV                             Karl   \n",
       "4   5  B006K2ZZ7K  A1UQRSCLF8GW1T    Michael D. Bigham \"M. Wassir\"   \n",
       "\n",
       "   HelpfulnessNumerator  HelpfulnessDenominator  Score        Time  \\\n",
       "0                     1                       1      5  1303862400   \n",
       "1                     0                       0      1  1346976000   \n",
       "2                     1                       1      4  1219017600   \n",
       "3                     3                       3      2  1307923200   \n",
       "4                     0                       0      5  1350777600   \n",
       "\n",
       "                 Summary                                               Text  \n",
       "0  Good Quality Dog Food  I have bought several of the Vitality canned d...  \n",
       "1      Not as Advertised  Product arrived labeled as Jumbo Salted Peanut...  \n",
       "2  \"Delight\" says it all  This is a confection that has been around a fe...  \n",
       "3         Cough Medicine  If you are looking for the secret ingredient i...  \n",
       "4            Great taffy  Great taffy at a great price.  There was a wid...  "
      ]
     },
     "execution_count": 27,
     "metadata": {},
     "output_type": "execute_result"
    }
   ],
   "source": [
    "data.head()"
   ]
  },
  {
   "cell_type": "code",
   "execution_count": 28,
   "id": "2f8ef03b-7b12-4a99-ad4e-378aad394a73",
   "metadata": {},
   "outputs": [],
   "source": [
    "df = data.sample(n=500)"
   ]
  },
  {
   "cell_type": "code",
   "execution_count": 29,
   "id": "6470fa46-74fe-4209-908b-aaa4916a8e1a",
   "metadata": {},
   "outputs": [
    {
     "data": {
      "image/png": "[encoded data removed]",
      "text/plain": [
       "<Figure size 1000x500 with 1 Axes>"
      ]
     },
     "metadata": {},
     "output_type": "display_data"
    }
   ],
   "source": [
    "ax = df['Score'].value_counts().sort_index() \\\n",
    "    .plot(kind='bar',\n",
    "          title='Count of Reviews by Stars',\n",
    "          figsize=(10, 5))\n",
    "ax.set_xlabel('Review Stars')\n",
    "plt.xticks(rotation=0)\n",
    "plt.show()"
   ]
  },
  {
   "cell_type": "code",
   "execution_count": 30,
   "id": "cbe488ed-0018-4c0a-a610-46e60b31a8b7",
   "metadata": {},
   "outputs": [
    {
     "name": "stdout",
     "output_type": "stream",
     "text": [
      "BEST TEA - TRY IT WITH LEMON - EXCELENT TEA AND COSTUMER SEVICE- FASY DELIVERY ALSO\n"
     ]
    }
   ],
   "source": [
    "review = df.sample(1).Text.iloc[0]  \n",
    "print(review)"
   ]
  },
  {
   "cell_type": "code",
   "execution_count": 31,
   "id": "1fca31fe-b782-4a42-8452-bc35b4fef302",
   "metadata": {
    "scrolled": true
   },
   "outputs": [
    {
     "data": {
      "text/plain": [
       "['BEST', 'TEA', '-', 'TRY', 'IT', 'WITH', 'LEMON', '-', 'EXCELENT', 'TEA']"
      ]
     },
     "execution_count": 31,
     "metadata": {},
     "output_type": "execute_result"
    }
   ],
   "source": [
    "tokens = nltk.word_tokenize(review)\n",
    "tokens[:10]"
   ]
  },
  {
   "cell_type": "code",
   "execution_count": 32,
   "id": "bdd130cc-e883-4d66-970e-95e51e67fbde",
   "metadata": {},
   "outputs": [
    {
     "data": {
      "text/plain": [
       "[('BEST', 'NNP'),\n",
       " ('TEA', 'NNP'),\n",
       " ('-', ':'),\n",
       " ('TRY', 'VB'),\n",
       " ('IT', 'NNP'),\n",
       " ('WITH', 'NNP'),\n",
       " ('LEMON', 'NNP'),\n",
       " ('-', ':'),\n",
       " ('EXCELENT', 'NNP'),\n",
       " ('TEA', 'NNP')]"
      ]
     },
     "execution_count": 32,
     "metadata": {},
     "output_type": "execute_result"
    }
   ],
   "source": [
    "tagged = nltk.pos_tag(tokens)\n",
    "tagged[:10]"
   ]
  },
  {
   "cell_type": "code",
   "execution_count": 33,
   "id": "06ea7918-d3e6-45bd-a8c5-888bd0e77ae3",
   "metadata": {},
   "outputs": [
    {
     "name": "stdout",
     "output_type": "stream",
     "text": [
      "(S\n",
      "  BEST/NNP\n",
      "  (ORGANIZATION TEA/NNP)\n",
      "  -/:\n",
      "  TRY/VB\n",
      "  IT/NNP\n",
      "  WITH/NNP\n",
      "  (ORGANIZATION LEMON/NNP)\n",
      "  -/:\n",
      "  (ORGANIZATION EXCELENT/NNP)\n",
      "  TEA/NNP\n",
      "  AND/NNP\n",
      "  (ORGANIZATION COSTUMER/NNP)\n",
      "  SEVICE-/NNP\n",
      "  FASY/NNP\n",
      "  (ORGANIZATION DELIVERY/NNP)\n",
      "  ALSO/NNP)\n"
     ]
    }
   ],
   "source": [
    "entities = nltk.chunk.ne_chunk(tagged)\n",
    "entities.pprint()"
   ]
  },
  {
   "cell_type": "markdown",
   "id": "69175085-a746-49af-9c55-32386726b969",
   "metadata": {},
   "source": [
    "## Sentiement Scoring using Vader"
   ]
  },
  {
   "cell_type": "code",
   "execution_count": 34,
   "id": "01aa2b27-b603-4a2c-a058-85c294e72d8f",
   "metadata": {},
   "outputs": [],
   "source": [
    "sia = SentimentIntensityAnalyzer()"
   ]
  },
  {
   "cell_type": "code",
   "execution_count": 35,
   "id": "6d585ddf-9423-4925-b16c-02c8d12a3b6a",
   "metadata": {},
   "outputs": [
    {
     "data": {
      "text/plain": [
       "{'neg': 0.0, 'neu': 0.276, 'pos': 0.724, 'compound': 0.8353}"
      ]
     },
     "execution_count": 35,
     "metadata": {},
     "output_type": "execute_result"
    }
   ],
   "source": [
    "sia.polarity_scores('Wow! That was just fascinating!')"
   ]
  },
  {
   "cell_type": "code",
   "execution_count": 36,
   "id": "253cb305-63e3-4940-9774-0a156594dc18",
   "metadata": {},
   "outputs": [
    {
     "data": {
      "text/plain": [
       "{'neg': 0.451, 'neu': 0.549, 'pos': 0.0, 'compound': -0.6249}"
      ]
     },
     "execution_count": 36,
     "metadata": {},
     "output_type": "execute_result"
    }
   ],
   "source": [
    "sia.polarity_scores('This is the worst I ever seen.')"
   ]
  },
  {
   "cell_type": "code",
   "execution_count": 37,
   "id": "539ad5a3-2d0f-494a-8b77-cab0c163db17",
   "metadata": {},
   "outputs": [
    {
     "data": {
      "text/plain": [
       "{'neg': 0.0, 'neu': 0.756, 'pos': 0.244, 'compound': 0.6369}"
      ]
     },
     "execution_count": 37,
     "metadata": {},
     "output_type": "execute_result"
    }
   ],
   "source": [
    "sia.polarity_scores(review)"
   ]
  },
  {
   "cell_type": "code",
   "execution_count": 38,
   "id": "a53592c3-7ed9-49b7-b928-a9992721a10c",
   "metadata": {},
   "outputs": [
    {
     "data": {
      "application/vnd.jupyter.widget-view+json": {
       "model_id": "ad8e8160684f47ca8568715ec396caa4",
       "version_major": 2,
       "version_minor": 0
      },
      "text/plain": [
       "  0%|          | 0/500 [00:00<?, ?it/s]"
      ]
     },
     "metadata": {},
     "output_type": "display_data"
    }
   ],
   "source": [
    "res = {}\n",
    "for i, row in tqdm(df.iterrows(), total=len(df)):\n",
    "    text = row['Text']\n",
    "    myid = row['Id']\n",
    "    res[myid] = sia.polarity_scores(text)"
   ]
  },
  {
   "cell_type": "code",
   "execution_count": 39,
   "id": "74ab8d5d-6acf-46b3-b05c-a971d9fe7f94",
   "metadata": {},
   "outputs": [
    {
     "data": {
      "text/html": [
       "<div>\n",
       "<style scoped>\n",
       "    .dataframe tbody tr th:only-of-type {\n",
       "        vertical-align: middle;\n",
       "    }\n",
       "\n",
       "    .dataframe tbody tr th {\n",
       "        vertical-align: top;\n",
       "    }\n",
       "\n",
       "    .dataframe thead th {\n",
       "        text-align: right;\n",
       "    }\n",
       "</style>\n",
       "<table border=\"1\" class=\"dataframe\">\n",
       "  <thead>\n",
       "    <tr style=\"text-align: right;\">\n",
       "      <th></th>\n",
       "      <th>Id</th>\n",
       "      <th>neg</th>\n",
       "      <th>neu</th>\n",
       "      <th>pos</th>\n",
       "      <th>compound</th>\n",
       "      <th>ProductId</th>\n",
       "      <th>UserId</th>\n",
       "      <th>ProfileName</th>\n",
       "      <th>HelpfulnessNumerator</th>\n",
       "      <th>HelpfulnessDenominator</th>\n",
       "      <th>Score</th>\n",
       "      <th>Time</th>\n",
       "      <th>Summary</th>\n",
       "      <th>Text</th>\n",
       "    </tr>\n",
       "  </thead>\n",
       "  <tbody>\n",
       "    <tr>\n",
       "      <th>0</th>\n",
       "      <td>98868</td>\n",
       "      <td>0.000</td>\n",
       "      <td>0.736</td>\n",
       "      <td>0.264</td>\n",
       "      <td>0.9728</td>\n",
       "      <td>B000Y2CI9U</td>\n",
       "      <td>A2XDRDXPO68ZIZ</td>\n",
       "      <td>Kimberly Norberto \"mystampstore\"</td>\n",
       "      <td>1</td>\n",
       "      <td>1</td>\n",
       "      <td>5</td>\n",
       "      <td>1284336000</td>\n",
       "      <td>Strogalicious!</td>\n",
       "      <td>Hi Everyone,&lt;br /&gt;  We love the Annie's Beef S...</td>\n",
       "    </tr>\n",
       "    <tr>\n",
       "      <th>1</th>\n",
       "      <td>337022</td>\n",
       "      <td>0.000</td>\n",
       "      <td>0.743</td>\n",
       "      <td>0.257</td>\n",
       "      <td>0.9877</td>\n",
       "      <td>B004CYLWGQ</td>\n",
       "      <td>A1PM0LSZTA99PE</td>\n",
       "      <td>Sara H.</td>\n",
       "      <td>6</td>\n",
       "      <td>7</td>\n",
       "      <td>2</td>\n",
       "      <td>1295049600</td>\n",
       "      <td>Not As Good As Before</td>\n",
       "      <td>Saw this in the grocery store recently and was...</td>\n",
       "    </tr>\n",
       "    <tr>\n",
       "      <th>2</th>\n",
       "      <td>18561</td>\n",
       "      <td>0.034</td>\n",
       "      <td>0.809</td>\n",
       "      <td>0.157</td>\n",
       "      <td>0.9348</td>\n",
       "      <td>B003ANJ9SI</td>\n",
       "      <td>A2EWHU3RB2Z3YR</td>\n",
       "      <td>Kay</td>\n",
       "      <td>1</td>\n",
       "      <td>1</td>\n",
       "      <td>4</td>\n",
       "      <td>1335052800</td>\n",
       "      <td>My picky dog enjoys eating it</td>\n",
       "      <td>My dog, a Great Pyrenees, has a few food aller...</td>\n",
       "    </tr>\n",
       "    <tr>\n",
       "      <th>3</th>\n",
       "      <td>39247</td>\n",
       "      <td>0.000</td>\n",
       "      <td>0.847</td>\n",
       "      <td>0.153</td>\n",
       "      <td>0.8176</td>\n",
       "      <td>B005EX6K2K</td>\n",
       "      <td>AKTS2GDYS46RR</td>\n",
       "      <td>debbed36</td>\n",
       "      <td>0</td>\n",
       "      <td>0</td>\n",
       "      <td>4</td>\n",
       "      <td>1327881600</td>\n",
       "      <td>Great conversation piece</td>\n",
       "      <td>I used these at a party for a neurosurgeon.  I...</td>\n",
       "    </tr>\n",
       "    <tr>\n",
       "      <th>4</th>\n",
       "      <td>37335</td>\n",
       "      <td>0.025</td>\n",
       "      <td>0.759</td>\n",
       "      <td>0.216</td>\n",
       "      <td>0.9846</td>\n",
       "      <td>B003CK2BQG</td>\n",
       "      <td>AK7CAW3N1XZV6</td>\n",
       "      <td>Beth Cholette \"doctor_beth\"</td>\n",
       "      <td>2</td>\n",
       "      <td>2</td>\n",
       "      <td>5</td>\n",
       "      <td>1172534400</td>\n",
       "      <td>Wonderful mix of green tea and chai flavor</td>\n",
       "      <td>I like drinking green tea for the health benef...</td>\n",
       "    </tr>\n",
       "  </tbody>\n",
       "</table>\n",
       "</div>"
      ],
      "text/plain": [
       "       Id    neg    neu    pos  compound   ProductId          UserId  \\\n",
       "0   98868  0.000  0.736  0.264    0.9728  B000Y2CI9U  A2XDRDXPO68ZIZ   \n",
       "1  337022  0.000  0.743  0.257    0.9877  B004CYLWGQ  A1PM0LSZTA99PE   \n",
       "2   18561  0.034  0.809  0.157    0.9348  B003ANJ9SI  A2EWHU3RB2Z3YR   \n",
       "3   39247  0.000  0.847  0.153    0.8176  B005EX6K2K   AKTS2GDYS46RR   \n",
       "4   37335  0.025  0.759  0.216    0.9846  B003CK2BQG   AK7CAW3N1XZV6   \n",
       "\n",
       "                        ProfileName  HelpfulnessNumerator  \\\n",
       "0  Kimberly Norberto \"mystampstore\"                     1   \n",
       "1                           Sara H.                     6   \n",
       "2                               Kay                     1   \n",
       "3                          debbed36                     0   \n",
       "4       Beth Cholette \"doctor_beth\"                     2   \n",
       "\n",
       "   HelpfulnessDenominator  Score        Time  \\\n",
       "0                       1      5  1284336000   \n",
       "1                       7      2  1295049600   \n",
       "2                       1      4  1335052800   \n",
       "3                       0      4  1327881600   \n",
       "4                       2      5  1172534400   \n",
       "\n",
       "                                      Summary  \\\n",
       "0                              Strogalicious!   \n",
       "1                       Not As Good As Before   \n",
       "2               My picky dog enjoys eating it   \n",
       "3                    Great conversation piece   \n",
       "4  Wonderful mix of green tea and chai flavor   \n",
       "\n",
       "                                                Text  \n",
       "0  Hi Everyone,<br />  We love the Annie's Beef S...  \n",
       "1  Saw this in the grocery store recently and was...  \n",
       "2  My dog, a Great Pyrenees, has a few food aller...  \n",
       "3  I used these at a party for a neurosurgeon.  I...  \n",
       "4  I like drinking green tea for the health benef...  "
      ]
     },
     "execution_count": 39,
     "metadata": {},
     "output_type": "execute_result"
    }
   ],
   "source": [
    "vaders = pd.DataFrame(res).T \\\n",
    "        .reset_index().rename(columns={'index': 'Id'}) \\\n",
    "        .merge(df, how='left')\n",
    "vaders.head()"
   ]
  },
  {
   "cell_type": "code",
   "execution_count": 40,
   "id": "ca0442a2-2add-471a-8b46-29e9aabeb352",
   "metadata": {},
   "outputs": [
    {
     "data": {
      "image/png": "[encoded data removed]",
      "text/plain": [
       "<Figure size 640x480 with 1 Axes>"
      ]
     },
     "metadata": {},
     "output_type": "display_data"
    }
   ],
   "source": [
    "ax = sns.barplot(data=vaders, x='Score', y='compound', hue='Score',palette='hls', legend=False) \n",
    "ax.set_title('Compound Score by Amazon Star Review')\n",
    "plt.show()"
   ]
  },
  {
   "cell_type": "code",
   "execution_count": 41,
   "id": "471f0bfa-176d-43dd-b002-70b54f7539c2",
   "metadata": {},
   "outputs": [
    {
     "data": {
      "image/png": "[encoded data removed]",
      "text/plain": [
       "<Figure size 1200x300 with 3 Axes>"
      ]
     },
     "metadata": {},
     "output_type": "display_data"
    }
   ],
   "source": [
    "fig, axs = plt.subplots(1, 3, figsize=(12, 3))\n",
    "sns.barplot(data=vaders, x='Score', y='pos', ax=axs[0],hue='Score',palette='hls', legend=False)\n",
    "sns.barplot(data=vaders, x='Score', y='neu', ax=axs[1],hue='Score',palette='hls', legend=False)\n",
    "sns.barplot(data=vaders, x='Score', y='neg', ax=axs[2],hue='Score',palette='hls', legend=False)\n",
    "axs[0].set_title('Positive')\n",
    "axs[1].set_title('Neutral')\n",
    "axs[2].set_title('Negative')\n",
    "plt.tight_layout()\n",
    "plt.show()"
   ]
  },
  {
   "cell_type": "markdown",
   "id": "03fd56c1-6dc2-4b09-ad14-23b36d3a346e",
   "metadata": {},
   "source": [
    "## Roberta Pretrained Model\n",
    "- Use a model trained of a large corpus of data.\n",
    "- \n",
    "Transformer model accounts for the words but also the context related to other words."
   ]
  },
  {
   "cell_type": "code",
   "execution_count": 42,
   "id": "ffdb696a-31f8-4fff-9ca5-9eceaefc5e61",
   "metadata": {},
   "outputs": [],
   "source": [
    "import transformers"
   ]
  },
  {
   "cell_type": "code",
   "execution_count": 43,
   "id": "29f1ee4f-4358-4c47-8bfc-bd3859cb92ea",
   "metadata": {},
   "outputs": [],
   "source": [
    "from transformers import AutoTokenizer\n",
    "from transformers import AutoModelForSequenceClassification\n",
    "from scipy.special import softmax"
   ]
  },
  {
   "cell_type": "code",
   "execution_count": 44,
   "id": "1fbed2fd-d31c-45e0-a8d2-defc5806d8b7",
   "metadata": {},
   "outputs": [],
   "source": [
    "MODEL = f\"cardiffnlp/twitter-roberta-base-sentiment\"\n",
    "tokenizer = AutoTokenizer.from_pretrained(MODEL)\n",
    "model = AutoModelForSequenceClassification.from_pretrained(MODEL)"
   ]
  },
  {
   "cell_type": "markdown",
   "id": "f2957b13-9e67-4429-804a-f9eb82817bbc",
   "metadata": {},
   "source": [
    "`VADER` on review "
   ]
  },
  {
   "cell_type": "code",
   "execution_count": 45,
   "id": "d2750aa5-979c-4d61-b022-e3630379c1cd",
   "metadata": {},
   "outputs": [
    {
     "name": "stdout",
     "output_type": "stream",
     "text": [
      "BEST TEA - TRY IT WITH LEMON - EXCELENT TEA AND COSTUMER SEVICE- FASY DELIVERY ALSO\n"
     ]
    },
    {
     "data": {
      "text/plain": [
       "{'neg': 0.0, 'neu': 0.756, 'pos': 0.244, 'compound': 0.6369}"
      ]
     },
     "execution_count": 45,
     "metadata": {},
     "output_type": "execute_result"
    }
   ],
   "source": [
    "print(review)\n",
    "sia.polarity_scores(review)"
   ]
  },
  {
   "cell_type": "markdown",
   "id": "37fa0716-146f-42cb-8fcf-1d3b58ee4ccf",
   "metadata": {},
   "source": [
    "`Roberta` on review"
   ]
  },
  {
   "cell_type": "code",
   "execution_count": 47,
   "id": "841a0643-cd91-487e-a218-e1d131d354f0",
   "metadata": {},
   "outputs": [
    {
     "name": "stdout",
     "output_type": "stream",
     "text": [
      "{'roberta_neg': 0.010955464, 'roberta_neu': 0.7050112, 'roberta_pos': 0.2840334}\n"
     ]
    }
   ],
   "source": [
    "encoded_text = tokenizer(review, return_tensors='pt')\n",
    "output = model(**encoded_text)\n",
    "scores = output[0][0].detach().numpy()\n",
    "scores = softmax(scores)\n",
    "scores_dict = {\n",
    "    'roberta_neg' : scores[0],\n",
    "    'roberta_neu' : scores[1],\n",
    "    'roberta_pos' : scores[2]\n",
    "}\n",
    "print(scores_dict)"
   ]
  },
  {
   "cell_type": "code",
   "execution_count": 48,
   "id": "7e09f926-e005-4e39-aaf8-858fc37680bb",
   "metadata": {},
   "outputs": [],
   "source": [
    "def polarity_scores_roberta(review):\n",
    "    encoded_text = tokenizer(review, return_tensors='pt')\n",
    "    output = model(**encoded_text)\n",
    "    scores = output[0][0].detach().numpy()\n",
    "    scores = softmax(scores)\n",
    "    scores_dict = {\n",
    "        'roberta_neg' : scores[0],\n",
    "        'roberta_neu' : scores[1],\n",
    "        'roberta_pos' : scores[2]\n",
    "    }\n",
    "    return scores_dict"
   ]
  },
  {
   "cell_type": "code",
   "execution_count": null,
   "id": "f20787b3-7115-4f0c-b038-691b8108e89f",
   "metadata": {},
   "outputs": [
    {
     "data": {
      "application/vnd.jupyter.widget-view+json": {
       "model_id": "a12d9b2ec68d4a73b53733e6c93fd680",
       "version_major": 2,
       "version_minor": 0
      },
      "text/plain": [
       "  0%|          | 0/500 [00:00<?, ?it/s]"
      ]
     },
     "metadata": {},
     "output_type": "display_data"
    },
    {
     "name": "stdout",
     "output_type": "stream",
     "text": [
      "Broke for id 266068\n",
      "Broke for id 413554\n"
     ]
    }
   ],
   "source": [
    "res = {}\n",
    "for i, row in tqdm(df.iterrows(), total=len(df)):\n",
    "    try:\n",
    "        text = row['Text']\n",
    "        myid = row['Id']\n",
    "        vader_result = sia.polarity_scores(text)\n",
    "        vader_result_rename = {}\n",
    "        for key, value in vader_result.items():\n",
    "            vader_result_rename[f\"vader_{key}\"] = value\n",
    "        roberta_result = polarity_scores_roberta(text)\n",
    "        both = {**vader_result_rename, **roberta_result}\n",
    "        res[myid] = both\n",
    "    except RuntimeError:\n",
    "        print(f'Broke for id {myid}')"
   ]
  },
  {
   "cell_type": "code",
   "execution_count": null,
   "id": "a78b5b5f-af60-4040-b61f-8dcb6155d67b",
   "metadata": {},
   "outputs": [],
   "source": [
    "results_df = pd.DataFrame(res).T\n",
    "results_df = results_df.reset_index().rename(columns={'index': 'Id'})\n",
    "results_df = results_df.merge(df, how='left')"
   ]
  },
  {
   "cell_type": "markdown",
   "id": "1a434925-70d5-4125-8bdc-5b5e304e9098",
   "metadata": {},
   "source": [
    "## Comparing Scores"
   ]
  },
  {
   "cell_type": "code",
   "execution_count": null,
   "id": "09d132a3-e086-40ec-9a87-66ec93e4aea8",
   "metadata": {},
   "outputs": [],
   "source": [
    "results_df.columns"
   ]
  },
  {
   "cell_type": "code",
   "execution_count": null,
   "id": "7cd68267-fe39-4698-bfb8-33f07cf4c74d",
   "metadata": {},
   "outputs": [],
   "source": [
    "sns.pairplot(data=results_df,\n",
    "             vars=['vader_neg', 'vader_neu', 'vader_pos',\n",
    "                  'roberta_neg', 'roberta_neu', 'roberta_pos'],\n",
    "            hue='Score',\n",
    "            palette='tab10')\n",
    "plt.show()"
   ]
  },
  {
   "cell_type": "code",
   "execution_count": null,
   "id": "6c5b6058-7967-4e09-b818-895d8c3904ba",
   "metadata": {},
   "outputs": [],
   "source": []
  }
 ],
 "metadata": {
  "kernelspec": {
   "display_name": "Python 3 (ipykernel)",
   "language": "python",
   "name": "python3"
  },
  "language_info": {
   "codemirror_mode": {
    "name": "ipython",
    "version": 3
   },
   "file_extension": ".py",
   "mimetype": "text/x-python",
   "name": "python",
   "nbconvert_exporter": "python",
   "pygments_lexer": "ipython3",
   "version": "3.10.7"
  }
 },
 "nbformat": 4,
 "nbformat_minor": 5
}
